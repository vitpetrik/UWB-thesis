{
  "cells": [
    {
      "cell_type": "code",
      "metadata": {},
      "source": [
        "using Statistics\n",
        "using DataFrames\n",
        "using Plots\n",
        "using CSV\n",
        "using Printf\n",
        "\n",
        "gr()\n",
        "\n",
        "default_plots = (\n",
        "    fontfamily=\"computer modern\",\n",
        "    lims = :round,\n",
        "    minorgrid=true,\n",
        "    legend=false,\n",
        "    color_palette=:lighttest,\n",
        "    widen=true,\n",
        ")"
      ],
      "id": "dd428dcd",
      "execution_count": null,
      "outputs": []
    },
    {
      "cell_type": "markdown",
      "metadata": {},
      "source": [
        "# Simulations and real-world experiments\n",
        "\n",
        "A series of experiments have been conducted to evaluate the performance of the proposed measurement system. Experiments took place at Temešvár and Císařský ostrov. A couple of Holybro X500 [@fig-holybrox500] equipped with Qorvo DWM1000 has been chosen as a test platform. These drones were mainly chosen due to the RTK GNSS system onboard, which is crucial for evaluating accuracy and is used as source of ground truth.\n",
        "\n",
        "![Holybro X500 [^1].](images/holybrox500.jpg){#fig-holybrox500 width=\"70%\"}\n",
        "\n",
        "[^1]: <http://mrs.felk.cvut.cz/research/micro-aerial-vehicles>\n",
        "\n",
        "## Line test\n",
        "\n",
        "This experiment aims to test maximum range and get transfer characteristic of the sensor. The first UAV purpose was to act as an observer and for the entire duration of the test stayed and position $\\left(0, 0, 0\\right)$. Second UAV was flying in a trajectory predefined by parametric equation @eq-line-test.\n",
        "\n",
        "$$\n",
        "    \\mathbf{position}(t) = \\begin{pmatrix} 0 \\\\ 65 + 55 \\sin (2 \\pi t) \\\\ 5 \\end{pmatrix}, \\quad t \\in \\left(0, 1\\right)\n",
        "$$ {#eq-line-test}\n"
      ],
      "id": "1c246ba1"
    },
    {
      "cell_type": "code",
      "metadata": {},
      "source": [
        "#| label: fig-tranfer-function\n",
        "#| fig-cap: Transfer characteristic of UWB\n",
        "#| output: true\n",
        "\n",
        "data = CSV.File(\"data/data_line.csv\")\n",
        "\n",
        "offset = mean(data.rtk_distance - data.range_uwb)\n",
        "@. data.range_uwb += offset\n",
        "\n",
        "plot(;default_plots..., \n",
        "        xlabel=\"RTK [m]\", \n",
        "        ylabel=\"UWB [m]\",\n",
        "    )\n",
        "\n",
        "plot!(data.rtk_distance, data.range_uwb)\n"
      ],
      "id": "fig-tranfer-function",
      "execution_count": null,
      "outputs": []
    },
    {
      "cell_type": "code",
      "metadata": {},
      "source": [
        "#| label: fig-line-in-time\n",
        "#| fig-cap: Transfer characteristic of UWB\n",
        "#| output: true\n",
        "\n",
        "plot(;default_plots..., \n",
        "        xlabel=\"Time [s]\", \n",
        "        ylabel=\"Range [m]\",\n",
        "        legend=true\n",
        "    )\n",
        "\n",
        "plot!(data.timestamp, data.rtk_distance, label=\"RTK\")\n",
        "plot!(data.timestamp, data.range_uwb, label=\"UWB\")\n",
        "plot!(twinx(), \n",
        "        data.timestamp, \n",
        "        data.rtk_distance - data.range_uwb,\n",
        "        lc=:red; \n",
        "        default_plots..., \n",
        "        legend=true, \n",
        "        y_foreground_color_axis=:red,\n",
        "        y_foreground_color_border=:red,\n",
        "        y_foreground_color_text=:red,\n",
        "        label=\"Absolute error\")\n"
      ],
      "id": "fig-line-in-time",
      "execution_count": null,
      "outputs": []
    },
    {
      "cell_type": "markdown",
      "metadata": {},
      "source": [
        "As the results show, the measurements are accurate and reliable. Due to the effects of lag, the measurements have a marginal phase shift compared to the RTK results. The lag is caused by the nature of double-sided two-way ranging as well as the need to transport the data from DWM1000 and process them on the Intel NUC that runs ROS. 'julia @printf \"%.2f\" offset'"
      ],
      "id": "95ec48c7"
    }
  ],
  "metadata": {
    "kernelspec": {
      "name": "julia-1.8",
      "language": "julia",
      "display_name": "Julia 1.8.5"
    }
  },
  "nbformat": 4,
  "nbformat_minor": 5
}